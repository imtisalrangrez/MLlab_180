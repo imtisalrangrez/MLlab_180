{
 "cells": [
  {
   "cell_type": "code",
   "execution_count": 1,
   "id": "7a6c57b7",
   "metadata": {
    "_cell_guid": "b1076dfc-b9ad-4769-8c92-a6c4dae69d19",
    "_uuid": "8f2839f25d086af736a60e9eeb907d3b93b6e0e5",
    "execution": {
     "iopub.execute_input": "2025-08-08T05:35:42.584295Z",
     "iopub.status.busy": "2025-08-08T05:35:42.583440Z",
     "iopub.status.idle": "2025-08-08T05:35:44.373402Z",
     "shell.execute_reply": "2025-08-08T05:35:44.372425Z"
    },
    "papermill": {
     "duration": 1.796803,
     "end_time": "2025-08-08T05:35:44.375014",
     "exception": false,
     "start_time": "2025-08-08T05:35:42.578211",
     "status": "completed"
    },
    "tags": []
   },
   "outputs": [
    {
     "name": "stdout",
     "output_type": "stream",
     "text": [
      "/kaggle/input/house-price/house_price_train (1).csv\n",
      "/kaggle/input/titanic-train/titanic_train (1).csv\n"
     ]
    }
   ],
   "source": [
    "# This Python 3 environment comes with many helpful analytics libraries installed\n",
    "# It is defined by the kaggle/python Docker image: https://github.com/kaggle/docker-python\n",
    "# For example, here's several helpful packages to load\n",
    "\n",
    "import numpy as np # linear algebra\n",
    "import pandas as pd # data processing, CSV file I/O (e.g. pd.read_csv)\n",
    "\n",
    "# Input data files are available in the read-only \"../input/\" directory\n",
    "# For example, running this (by clicking run or pressing Shift+Enter) will list all files under the input directory\n",
    "\n",
    "import os\n",
    "for dirname, _, filenames in os.walk('/kaggle/input'):\n",
    "    for filename in filenames:\n",
    "        print(os.path.join(dirname, filename))\n",
    "\n",
    "# You can write up to 20GB to the current directory (/kaggle/working/) that gets preserved as output when you create a version using \"Save & Run All\" \n",
    "# You can also write temporary files to /kaggle/temp/, but they won't be saved outside of the current session"
   ]
  },
  {
   "cell_type": "code",
   "execution_count": 2,
   "id": "69b001b2",
   "metadata": {
    "execution": {
     "iopub.execute_input": "2025-08-08T05:35:44.383419Z",
     "iopub.status.busy": "2025-08-08T05:35:44.382982Z",
     "iopub.status.idle": "2025-08-08T05:35:44.432243Z",
     "shell.execute_reply": "2025-08-08T05:35:44.431386Z"
    },
    "papermill": {
     "duration": 0.055064,
     "end_time": "2025-08-08T05:35:44.433816",
     "exception": false,
     "start_time": "2025-08-08T05:35:44.378752",
     "status": "completed"
    },
    "tags": []
   },
   "outputs": [
    {
     "data": {
      "text/html": [
       "<div>\n",
       "<style scoped>\n",
       "    .dataframe tbody tr th:only-of-type {\n",
       "        vertical-align: middle;\n",
       "    }\n",
       "\n",
       "    .dataframe tbody tr th {\n",
       "        vertical-align: top;\n",
       "    }\n",
       "\n",
       "    .dataframe thead th {\n",
       "        text-align: right;\n",
       "    }\n",
       "</style>\n",
       "<table border=\"1\" class=\"dataframe\">\n",
       "  <thead>\n",
       "    <tr style=\"text-align: right;\">\n",
       "      <th></th>\n",
       "      <th>PassengerId</th>\n",
       "      <th>Survived</th>\n",
       "      <th>Pclass</th>\n",
       "      <th>Name</th>\n",
       "      <th>Sex</th>\n",
       "      <th>Age</th>\n",
       "      <th>SibSp</th>\n",
       "      <th>Parch</th>\n",
       "      <th>Ticket</th>\n",
       "      <th>Fare</th>\n",
       "      <th>Cabin</th>\n",
       "      <th>Embarked</th>\n",
       "    </tr>\n",
       "  </thead>\n",
       "  <tbody>\n",
       "    <tr>\n",
       "      <th>0</th>\n",
       "      <td>1</td>\n",
       "      <td>0</td>\n",
       "      <td>3</td>\n",
       "      <td>Braund, Mr. Owen Harris</td>\n",
       "      <td>male</td>\n",
       "      <td>22.0</td>\n",
       "      <td>1</td>\n",
       "      <td>0</td>\n",
       "      <td>A/5 21171</td>\n",
       "      <td>7.2500</td>\n",
       "      <td>NaN</td>\n",
       "      <td>S</td>\n",
       "    </tr>\n",
       "    <tr>\n",
       "      <th>1</th>\n",
       "      <td>2</td>\n",
       "      <td>1</td>\n",
       "      <td>1</td>\n",
       "      <td>Cumings, Mrs. John Bradley (Florence Briggs Th...</td>\n",
       "      <td>female</td>\n",
       "      <td>38.0</td>\n",
       "      <td>1</td>\n",
       "      <td>0</td>\n",
       "      <td>PC 17599</td>\n",
       "      <td>71.2833</td>\n",
       "      <td>C85</td>\n",
       "      <td>C</td>\n",
       "    </tr>\n",
       "    <tr>\n",
       "      <th>2</th>\n",
       "      <td>3</td>\n",
       "      <td>1</td>\n",
       "      <td>3</td>\n",
       "      <td>Heikkinen, Miss. Laina</td>\n",
       "      <td>female</td>\n",
       "      <td>26.0</td>\n",
       "      <td>0</td>\n",
       "      <td>0</td>\n",
       "      <td>STON/O2. 3101282</td>\n",
       "      <td>7.9250</td>\n",
       "      <td>NaN</td>\n",
       "      <td>S</td>\n",
       "    </tr>\n",
       "    <tr>\n",
       "      <th>3</th>\n",
       "      <td>4</td>\n",
       "      <td>1</td>\n",
       "      <td>1</td>\n",
       "      <td>Futrelle, Mrs. Jacques Heath (Lily May Peel)</td>\n",
       "      <td>female</td>\n",
       "      <td>35.0</td>\n",
       "      <td>1</td>\n",
       "      <td>0</td>\n",
       "      <td>113803</td>\n",
       "      <td>53.1000</td>\n",
       "      <td>C123</td>\n",
       "      <td>S</td>\n",
       "    </tr>\n",
       "    <tr>\n",
       "      <th>4</th>\n",
       "      <td>5</td>\n",
       "      <td>0</td>\n",
       "      <td>3</td>\n",
       "      <td>Allen, Mr. William Henry</td>\n",
       "      <td>male</td>\n",
       "      <td>35.0</td>\n",
       "      <td>0</td>\n",
       "      <td>0</td>\n",
       "      <td>373450</td>\n",
       "      <td>8.0500</td>\n",
       "      <td>NaN</td>\n",
       "      <td>S</td>\n",
       "    </tr>\n",
       "  </tbody>\n",
       "</table>\n",
       "</div>"
      ],
      "text/plain": [
       "   PassengerId  Survived  Pclass  \\\n",
       "0            1         0       3   \n",
       "1            2         1       1   \n",
       "2            3         1       3   \n",
       "3            4         1       1   \n",
       "4            5         0       3   \n",
       "\n",
       "                                                Name     Sex   Age  SibSp  \\\n",
       "0                            Braund, Mr. Owen Harris    male  22.0      1   \n",
       "1  Cumings, Mrs. John Bradley (Florence Briggs Th...  female  38.0      1   \n",
       "2                             Heikkinen, Miss. Laina  female  26.0      0   \n",
       "3       Futrelle, Mrs. Jacques Heath (Lily May Peel)  female  35.0      1   \n",
       "4                           Allen, Mr. William Henry    male  35.0      0   \n",
       "\n",
       "   Parch            Ticket     Fare Cabin Embarked  \n",
       "0      0         A/5 21171   7.2500   NaN        S  \n",
       "1      0          PC 17599  71.2833   C85        C  \n",
       "2      0  STON/O2. 3101282   7.9250   NaN        S  \n",
       "3      0            113803  53.1000  C123        S  \n",
       "4      0            373450   8.0500   NaN        S  "
      ]
     },
     "execution_count": 2,
     "metadata": {},
     "output_type": "execute_result"
    }
   ],
   "source": [
    "import numpy as np\n",
    "import pandas as pd\n",
    "df= pd.read_csv(\"/kaggle/input/titanic-train/titanic_train (1).csv\")\n",
    "df.head()\n"
   ]
  },
  {
   "cell_type": "code",
   "execution_count": 3,
   "id": "8bc4e8ea",
   "metadata": {
    "execution": {
     "iopub.execute_input": "2025-08-08T05:35:44.442509Z",
     "iopub.status.busy": "2025-08-08T05:35:44.442157Z",
     "iopub.status.idle": "2025-08-08T05:35:44.448955Z",
     "shell.execute_reply": "2025-08-08T05:35:44.448129Z"
    },
    "papermill": {
     "duration": 0.012728,
     "end_time": "2025-08-08T05:35:44.450411",
     "exception": false,
     "start_time": "2025-08-08T05:35:44.437683",
     "status": "completed"
    },
    "tags": []
   },
   "outputs": [
    {
     "name": "stdout",
     "output_type": "stream",
     "text": [
      "Columns with null values: ['Age', 'Cabin', 'Embarked']\n"
     ]
    }
   ],
   "source": [
    "null_columns = df.columns[df.isnull().any()]\n",
    "print(\"Columns with null values:\", list(null_columns))"
   ]
  },
  {
   "cell_type": "code",
   "execution_count": 4,
   "id": "18af63ff",
   "metadata": {
    "execution": {
     "iopub.execute_input": "2025-08-08T05:35:44.459134Z",
     "iopub.status.busy": "2025-08-08T05:35:44.458482Z",
     "iopub.status.idle": "2025-08-08T05:35:44.472958Z",
     "shell.execute_reply": "2025-08-08T05:35:44.471797Z"
    },
    "papermill": {
     "duration": 0.020564,
     "end_time": "2025-08-08T05:35:44.474639",
     "exception": false,
     "start_time": "2025-08-08T05:35:44.454075",
     "status": "completed"
    },
    "tags": []
   },
   "outputs": [],
   "source": [
    "df['Age'] = df['Age'].fillna(df['Age'].median())\n",
    "df['Embarked'] = df['Embarked'].fillna(df['Embarked'].mode().iloc[0])\n",
    "df['Cabin'] = df['Cabin'].fillna('Unknown')"
   ]
  },
  {
   "cell_type": "code",
   "execution_count": 5,
   "id": "ebd15b9e",
   "metadata": {
    "execution": {
     "iopub.execute_input": "2025-08-08T05:35:44.483185Z",
     "iopub.status.busy": "2025-08-08T05:35:44.482495Z",
     "iopub.status.idle": "2025-08-08T05:35:44.494694Z",
     "shell.execute_reply": "2025-08-08T05:35:44.493869Z"
    },
    "papermill": {
     "duration": 0.017783,
     "end_time": "2025-08-08T05:35:44.495995",
     "exception": false,
     "start_time": "2025-08-08T05:35:44.478212",
     "status": "completed"
    },
    "tags": []
   },
   "outputs": [
    {
     "data": {
      "text/html": [
       "<div>\n",
       "<style scoped>\n",
       "    .dataframe tbody tr th:only-of-type {\n",
       "        vertical-align: middle;\n",
       "    }\n",
       "\n",
       "    .dataframe tbody tr th {\n",
       "        vertical-align: top;\n",
       "    }\n",
       "\n",
       "    .dataframe thead th {\n",
       "        text-align: right;\n",
       "    }\n",
       "</style>\n",
       "<table border=\"1\" class=\"dataframe\">\n",
       "  <thead>\n",
       "    <tr style=\"text-align: right;\">\n",
       "      <th></th>\n",
       "      <th>PassengerId</th>\n",
       "      <th>Survived</th>\n",
       "      <th>Pclass</th>\n",
       "      <th>Name</th>\n",
       "      <th>Sex</th>\n",
       "      <th>Age</th>\n",
       "      <th>SibSp</th>\n",
       "      <th>Parch</th>\n",
       "      <th>Ticket</th>\n",
       "      <th>Fare</th>\n",
       "      <th>Cabin</th>\n",
       "      <th>Embarked</th>\n",
       "    </tr>\n",
       "  </thead>\n",
       "  <tbody>\n",
       "    <tr>\n",
       "      <th>0</th>\n",
       "      <td>1</td>\n",
       "      <td>0</td>\n",
       "      <td>3</td>\n",
       "      <td>Braund, Mr. Owen Harris</td>\n",
       "      <td>male</td>\n",
       "      <td>22.0</td>\n",
       "      <td>1</td>\n",
       "      <td>0</td>\n",
       "      <td>A/5 21171</td>\n",
       "      <td>7.2500</td>\n",
       "      <td>Unknown</td>\n",
       "      <td>S</td>\n",
       "    </tr>\n",
       "    <tr>\n",
       "      <th>1</th>\n",
       "      <td>2</td>\n",
       "      <td>1</td>\n",
       "      <td>1</td>\n",
       "      <td>Cumings, Mrs. John Bradley (Florence Briggs Th...</td>\n",
       "      <td>female</td>\n",
       "      <td>38.0</td>\n",
       "      <td>1</td>\n",
       "      <td>0</td>\n",
       "      <td>PC 17599</td>\n",
       "      <td>71.2833</td>\n",
       "      <td>C85</td>\n",
       "      <td>C</td>\n",
       "    </tr>\n",
       "    <tr>\n",
       "      <th>2</th>\n",
       "      <td>3</td>\n",
       "      <td>1</td>\n",
       "      <td>3</td>\n",
       "      <td>Heikkinen, Miss. Laina</td>\n",
       "      <td>female</td>\n",
       "      <td>26.0</td>\n",
       "      <td>0</td>\n",
       "      <td>0</td>\n",
       "      <td>STON/O2. 3101282</td>\n",
       "      <td>7.9250</td>\n",
       "      <td>Unknown</td>\n",
       "      <td>S</td>\n",
       "    </tr>\n",
       "    <tr>\n",
       "      <th>3</th>\n",
       "      <td>4</td>\n",
       "      <td>1</td>\n",
       "      <td>1</td>\n",
       "      <td>Futrelle, Mrs. Jacques Heath (Lily May Peel)</td>\n",
       "      <td>female</td>\n",
       "      <td>35.0</td>\n",
       "      <td>1</td>\n",
       "      <td>0</td>\n",
       "      <td>113803</td>\n",
       "      <td>53.1000</td>\n",
       "      <td>C123</td>\n",
       "      <td>S</td>\n",
       "    </tr>\n",
       "    <tr>\n",
       "      <th>4</th>\n",
       "      <td>5</td>\n",
       "      <td>0</td>\n",
       "      <td>3</td>\n",
       "      <td>Allen, Mr. William Henry</td>\n",
       "      <td>male</td>\n",
       "      <td>35.0</td>\n",
       "      <td>0</td>\n",
       "      <td>0</td>\n",
       "      <td>373450</td>\n",
       "      <td>8.0500</td>\n",
       "      <td>Unknown</td>\n",
       "      <td>S</td>\n",
       "    </tr>\n",
       "  </tbody>\n",
       "</table>\n",
       "</div>"
      ],
      "text/plain": [
       "   PassengerId  Survived  Pclass  \\\n",
       "0            1         0       3   \n",
       "1            2         1       1   \n",
       "2            3         1       3   \n",
       "3            4         1       1   \n",
       "4            5         0       3   \n",
       "\n",
       "                                                Name     Sex   Age  SibSp  \\\n",
       "0                            Braund, Mr. Owen Harris    male  22.0      1   \n",
       "1  Cumings, Mrs. John Bradley (Florence Briggs Th...  female  38.0      1   \n",
       "2                             Heikkinen, Miss. Laina  female  26.0      0   \n",
       "3       Futrelle, Mrs. Jacques Heath (Lily May Peel)  female  35.0      1   \n",
       "4                           Allen, Mr. William Henry    male  35.0      0   \n",
       "\n",
       "   Parch            Ticket     Fare    Cabin Embarked  \n",
       "0      0         A/5 21171   7.2500  Unknown        S  \n",
       "1      0          PC 17599  71.2833      C85        C  \n",
       "2      0  STON/O2. 3101282   7.9250  Unknown        S  \n",
       "3      0            113803  53.1000     C123        S  \n",
       "4      0            373450   8.0500  Unknown        S  "
      ]
     },
     "execution_count": 5,
     "metadata": {},
     "output_type": "execute_result"
    }
   ],
   "source": [
    "df.head()"
   ]
  },
  {
   "cell_type": "code",
   "execution_count": 6,
   "id": "7b9f6001",
   "metadata": {
    "execution": {
     "iopub.execute_input": "2025-08-08T05:35:44.505003Z",
     "iopub.status.busy": "2025-08-08T05:35:44.504436Z",
     "iopub.status.idle": "2025-08-08T05:35:44.509954Z",
     "shell.execute_reply": "2025-08-08T05:35:44.509073Z"
    },
    "papermill": {
     "duration": 0.011522,
     "end_time": "2025-08-08T05:35:44.511284",
     "exception": false,
     "start_time": "2025-08-08T05:35:44.499762",
     "status": "completed"
    },
    "tags": []
   },
   "outputs": [
    {
     "name": "stdout",
     "output_type": "stream",
     "text": [
      "Percentage of 'Unknown' in Cabin: 77.10%\n"
     ]
    }
   ],
   "source": [
    "unknown_ratio = (df['Cabin'] == 'Unknown').mean()\n",
    "\n",
    "print(f\"Percentage of 'Unknown' in Cabin: {unknown_ratio:.2%}\")"
   ]
  },
  {
   "cell_type": "code",
   "execution_count": 7,
   "id": "9b1d4d4c",
   "metadata": {
    "execution": {
     "iopub.execute_input": "2025-08-08T05:35:44.519921Z",
     "iopub.status.busy": "2025-08-08T05:35:44.519595Z",
     "iopub.status.idle": "2025-08-08T05:35:44.532109Z",
     "shell.execute_reply": "2025-08-08T05:35:44.531216Z"
    },
    "papermill": {
     "duration": 0.018344,
     "end_time": "2025-08-08T05:35:44.533512",
     "exception": false,
     "start_time": "2025-08-08T05:35:44.515168",
     "status": "completed"
    },
    "tags": []
   },
   "outputs": [
    {
     "data": {
      "text/html": [
       "<div>\n",
       "<style scoped>\n",
       "    .dataframe tbody tr th:only-of-type {\n",
       "        vertical-align: middle;\n",
       "    }\n",
       "\n",
       "    .dataframe tbody tr th {\n",
       "        vertical-align: top;\n",
       "    }\n",
       "\n",
       "    .dataframe thead th {\n",
       "        text-align: right;\n",
       "    }\n",
       "</style>\n",
       "<table border=\"1\" class=\"dataframe\">\n",
       "  <thead>\n",
       "    <tr style=\"text-align: right;\">\n",
       "      <th></th>\n",
       "      <th>PassengerId</th>\n",
       "      <th>Survived</th>\n",
       "      <th>Pclass</th>\n",
       "      <th>Name</th>\n",
       "      <th>Sex</th>\n",
       "      <th>Age</th>\n",
       "      <th>SibSp</th>\n",
       "      <th>Parch</th>\n",
       "      <th>Ticket</th>\n",
       "      <th>Fare</th>\n",
       "      <th>Cabin</th>\n",
       "      <th>Embarked</th>\n",
       "    </tr>\n",
       "  </thead>\n",
       "  <tbody>\n",
       "    <tr>\n",
       "      <th>0</th>\n",
       "      <td>1</td>\n",
       "      <td>0</td>\n",
       "      <td>3</td>\n",
       "      <td>Braund, Mr. Owen Harris</td>\n",
       "      <td>male</td>\n",
       "      <td>22.0</td>\n",
       "      <td>1</td>\n",
       "      <td>0</td>\n",
       "      <td>A/5 21171</td>\n",
       "      <td>7.2500</td>\n",
       "      <td>Unknown</td>\n",
       "      <td>S</td>\n",
       "    </tr>\n",
       "    <tr>\n",
       "      <th>1</th>\n",
       "      <td>2</td>\n",
       "      <td>1</td>\n",
       "      <td>1</td>\n",
       "      <td>Cumings, Mrs. John Bradley (Florence Briggs Th...</td>\n",
       "      <td>female</td>\n",
       "      <td>38.0</td>\n",
       "      <td>1</td>\n",
       "      <td>0</td>\n",
       "      <td>PC 17599</td>\n",
       "      <td>71.2833</td>\n",
       "      <td>C85</td>\n",
       "      <td>C</td>\n",
       "    </tr>\n",
       "    <tr>\n",
       "      <th>2</th>\n",
       "      <td>3</td>\n",
       "      <td>1</td>\n",
       "      <td>3</td>\n",
       "      <td>Heikkinen, Miss. Laina</td>\n",
       "      <td>female</td>\n",
       "      <td>26.0</td>\n",
       "      <td>0</td>\n",
       "      <td>0</td>\n",
       "      <td>STON/O2. 3101282</td>\n",
       "      <td>7.9250</td>\n",
       "      <td>Unknown</td>\n",
       "      <td>S</td>\n",
       "    </tr>\n",
       "    <tr>\n",
       "      <th>3</th>\n",
       "      <td>4</td>\n",
       "      <td>1</td>\n",
       "      <td>1</td>\n",
       "      <td>Futrelle, Mrs. Jacques Heath (Lily May Peel)</td>\n",
       "      <td>female</td>\n",
       "      <td>35.0</td>\n",
       "      <td>1</td>\n",
       "      <td>0</td>\n",
       "      <td>113803</td>\n",
       "      <td>53.1000</td>\n",
       "      <td>C123</td>\n",
       "      <td>S</td>\n",
       "    </tr>\n",
       "    <tr>\n",
       "      <th>4</th>\n",
       "      <td>5</td>\n",
       "      <td>0</td>\n",
       "      <td>3</td>\n",
       "      <td>Allen, Mr. William Henry</td>\n",
       "      <td>male</td>\n",
       "      <td>35.0</td>\n",
       "      <td>0</td>\n",
       "      <td>0</td>\n",
       "      <td>373450</td>\n",
       "      <td>8.0500</td>\n",
       "      <td>Unknown</td>\n",
       "      <td>S</td>\n",
       "    </tr>\n",
       "  </tbody>\n",
       "</table>\n",
       "</div>"
      ],
      "text/plain": [
       "   PassengerId  Survived  Pclass  \\\n",
       "0            1         0       3   \n",
       "1            2         1       1   \n",
       "2            3         1       3   \n",
       "3            4         1       1   \n",
       "4            5         0       3   \n",
       "\n",
       "                                                Name     Sex   Age  SibSp  \\\n",
       "0                            Braund, Mr. Owen Harris    male  22.0      1   \n",
       "1  Cumings, Mrs. John Bradley (Florence Briggs Th...  female  38.0      1   \n",
       "2                             Heikkinen, Miss. Laina  female  26.0      0   \n",
       "3       Futrelle, Mrs. Jacques Heath (Lily May Peel)  female  35.0      1   \n",
       "4                           Allen, Mr. William Henry    male  35.0      0   \n",
       "\n",
       "   Parch            Ticket     Fare    Cabin Embarked  \n",
       "0      0         A/5 21171   7.2500  Unknown        S  \n",
       "1      0          PC 17599  71.2833      C85        C  \n",
       "2      0  STON/O2. 3101282   7.9250  Unknown        S  \n",
       "3      0            113803  53.1000     C123        S  \n",
       "4      0            373450   8.0500  Unknown        S  "
      ]
     },
     "execution_count": 7,
     "metadata": {},
     "output_type": "execute_result"
    }
   ],
   "source": [
    " df.head()"
   ]
  },
  {
   "cell_type": "code",
   "execution_count": 8,
   "id": "fe8fee84",
   "metadata": {
    "execution": {
     "iopub.execute_input": "2025-08-08T05:35:44.542986Z",
     "iopub.status.busy": "2025-08-08T05:35:44.542672Z",
     "iopub.status.idle": "2025-08-08T05:35:45.985628Z",
     "shell.execute_reply": "2025-08-08T05:35:45.984821Z"
    },
    "papermill": {
     "duration": 1.449737,
     "end_time": "2025-08-08T05:35:45.987279",
     "exception": false,
     "start_time": "2025-08-08T05:35:44.537542",
     "status": "completed"
    },
    "tags": []
   },
   "outputs": [],
   "source": [
    "# Convert categorical columns to numeric\n",
    "from sklearn.preprocessing import LabelEncoder, MinMaxScaler\n",
    "label_encoders = {}\n",
    "for col in ['Sex', 'Embarked']:\n",
    "    le = LabelEncoder()\n",
    "    df[col] = le.fit_transform(df[col])\n",
    "    label_encoders[col] = le"
   ]
  },
  {
   "cell_type": "code",
   "execution_count": 9,
   "id": "9f7aea6d",
   "metadata": {
    "execution": {
     "iopub.execute_input": "2025-08-08T05:35:45.997224Z",
     "iopub.status.busy": "2025-08-08T05:35:45.996311Z",
     "iopub.status.idle": "2025-08-08T05:35:46.009431Z",
     "shell.execute_reply": "2025-08-08T05:35:46.008412Z"
    },
    "papermill": {
     "duration": 0.019445,
     "end_time": "2025-08-08T05:35:46.010955",
     "exception": false,
     "start_time": "2025-08-08T05:35:45.991510",
     "status": "completed"
    },
    "tags": []
   },
   "outputs": [],
   "source": [
    "# Select features and target\n",
    "features = ['Pclass', 'Sex', 'Age', 'SibSp', 'Parch', 'Fare', 'Embarked']\n",
    "X = df[features]\n",
    "y = df['Survived']"
   ]
  },
  {
   "cell_type": "code",
   "execution_count": 10,
   "id": "17fc8b01",
   "metadata": {
    "execution": {
     "iopub.execute_input": "2025-08-08T05:35:46.020056Z",
     "iopub.status.busy": "2025-08-08T05:35:46.019742Z",
     "iopub.status.idle": "2025-08-08T05:35:46.027867Z",
     "shell.execute_reply": "2025-08-08T05:35:46.027143Z"
    },
    "papermill": {
     "duration": 0.014247,
     "end_time": "2025-08-08T05:35:46.029171",
     "exception": false,
     "start_time": "2025-08-08T05:35:46.014924",
     "status": "completed"
    },
    "tags": []
   },
   "outputs": [],
   "source": [
    "# Scale features to [0,1] for chi-square\n",
    "scaler = MinMaxScaler()\n",
    "X_scaled = scaler.fit_transform(X)"
   ]
  },
  {
   "cell_type": "code",
   "execution_count": 11,
   "id": "68f2ff37",
   "metadata": {
    "execution": {
     "iopub.execute_input": "2025-08-08T05:35:46.039666Z",
     "iopub.status.busy": "2025-08-08T05:35:46.038857Z",
     "iopub.status.idle": "2025-08-08T05:35:46.428757Z",
     "shell.execute_reply": "2025-08-08T05:35:46.427512Z"
    },
    "papermill": {
     "duration": 0.396223,
     "end_time": "2025-08-08T05:35:46.430305",
     "exception": false,
     "start_time": "2025-08-08T05:35:46.034082",
     "status": "completed"
    },
    "tags": []
   },
   "outputs": [
    {
     "name": "stdout",
     "output_type": "stream",
     "text": [
      "Chi-Square Feature Scores:\n",
      "     Feature  Chi2 Score\n",
      "0    Pclass   27.232933\n",
      "1       Sex   92.702447\n",
      "2       Age    0.275991\n",
      "3     SibSp    0.322733\n",
      "4     Parch    1.682917\n",
      "5      Fare    8.819172\n",
      "6  Embarked    5.101262\n"
     ]
    }
   ],
   "source": [
    "#Chi-Square Feature Selection\n",
    "from sklearn.feature_selection import SelectKBest, chi2\n",
    "import pandas as pd\n",
    "\n",
    "chi_selector = SelectKBest(score_func=chi2, k='all')\n",
    "chi_selector.fit(X_scaled, y)\n",
    "\n",
    "chi_scores = chi_selector.scores_\n",
    "\n",
    "chi_results = pd.DataFrame({\n",
    "    'Feature': features,\n",
    "    'Chi2 Score': chi_scores\n",
    "})\n",
    "\n",
    "print(\"Chi-Square Feature Scores:\\n\", chi_results)\n"
   ]
  },
  {
   "cell_type": "code",
   "execution_count": 12,
   "id": "a00ac82b",
   "metadata": {
    "execution": {
     "iopub.execute_input": "2025-08-08T05:35:46.439666Z",
     "iopub.status.busy": "2025-08-08T05:35:46.439327Z",
     "iopub.status.idle": "2025-08-08T05:35:46.451689Z",
     "shell.execute_reply": "2025-08-08T05:35:46.450632Z"
    },
    "papermill": {
     "duration": 0.018647,
     "end_time": "2025-08-08T05:35:46.453137",
     "exception": false,
     "start_time": "2025-08-08T05:35:46.434490",
     "status": "completed"
    },
    "tags": []
   },
   "outputs": [
    {
     "name": "stdout",
     "output_type": "stream",
     "text": [
      "\n",
      "Fisher Score Feature Scores:\n",
      "     Feature  Fisher Score\n",
      "0    Pclass      0.129394\n",
      "1       Sex      0.418904\n",
      "2       Age      0.004231\n",
      "3     SibSp      0.001249\n",
      "4     Parch      0.006708\n",
      "5      Fare      0.070901\n",
      "6  Embarked      0.028928\n"
     ]
    }
   ],
   "source": [
    "#Fisher Score Implementation & Application\n",
    "import numpy as np\n",
    "\n",
    "def fisher_score(X, y):\n",
    "    classes = np.unique(y)\n",
    "    scores = []\n",
    "    for i in range(X.shape[1]):\n",
    "        numerator = 0\n",
    "        denominator = 0\n",
    "        overall_mean = np.mean(X[:, i])\n",
    "        for cls in classes:\n",
    "            X_c = X[y == cls, i]\n",
    "            mean_c = np.mean(X_c)\n",
    "            var_c = np.var(X_c)\n",
    "            n_c = len(X_c)\n",
    "            numerator += n_c * (mean_c - overall_mean) ** 2\n",
    "            denominator += n_c * var_c\n",
    "        score = numerator / denominator if denominator != 0 else 0\n",
    "        scores.append(score)\n",
    "    return np.array(scores)\n",
    "\n",
    "fisher_scores = fisher_score(X_scaled, y.values)\n",
    "\n",
    "fisher_results = pd.DataFrame({\n",
    "    'Feature': features,\n",
    "    'Fisher Score': fisher_scores\n",
    "})\n",
    "\n",
    "print(\"\\nFisher Score Feature Scores:\\n\", fisher_results)\n"
   ]
  },
  {
   "cell_type": "code",
   "execution_count": 13,
   "id": "1917cded",
   "metadata": {
    "execution": {
     "iopub.execute_input": "2025-08-08T05:35:46.462310Z",
     "iopub.status.busy": "2025-08-08T05:35:46.461999Z",
     "iopub.status.idle": "2025-08-08T05:35:46.472155Z",
     "shell.execute_reply": "2025-08-08T05:35:46.471250Z"
    },
    "papermill": {
     "duration": 0.01645,
     "end_time": "2025-08-08T05:35:46.473702",
     "exception": false,
     "start_time": "2025-08-08T05:35:46.457252",
     "status": "completed"
    },
    "tags": []
   },
   "outputs": [
    {
     "name": "stdout",
     "output_type": "stream",
     "text": [
      "    Feature  ANOVA F-score\n",
      "1       Sex     372.405724\n",
      "0    Pclass     115.031272\n",
      "5      Fare      63.030764\n",
      "6  Embarked      25.717286\n",
      "4     Parch       5.963464\n",
      "2       Age       3.761528\n",
      "3     SibSp       1.110572\n"
     ]
    }
   ],
   "source": [
    "#Univariate feature selection (Or) ANOVA (Regression and Classification)\n",
    "from sklearn.feature_selection import SelectKBest, f_classif\n",
    "import pandas as pd\n",
    "\n",
    "selector = SelectKBest(score_func=f_classif, k='all')\n",
    "selector.fit(X_scaled, y)\n",
    "\n",
    "scores = selector.scores_\n",
    "\n",
    "result_df = pd.DataFrame({\n",
    "    'Feature': features,\n",
    "    'ANOVA F-score': scores\n",
    "}).sort_values(by='ANOVA F-score', ascending=False)\n",
    "\n",
    "print(result_df)\n"
   ]
  },
  {
   "cell_type": "code",
   "execution_count": 14,
   "id": "0283f9d4",
   "metadata": {
    "execution": {
     "iopub.execute_input": "2025-08-08T05:35:46.483397Z",
     "iopub.status.busy": "2025-08-08T05:35:46.482554Z",
     "iopub.status.idle": "2025-08-08T05:35:46.490189Z",
     "shell.execute_reply": "2025-08-08T05:35:46.489264Z"
    },
    "papermill": {
     "duration": 0.013958,
     "end_time": "2025-08-08T05:35:46.491714",
     "exception": false,
     "start_time": "2025-08-08T05:35:46.477756",
     "status": "completed"
    },
    "tags": []
   },
   "outputs": [
    {
     "name": "stdout",
     "output_type": "stream",
     "text": [
      "Top 3 selected features: ['Pclass', 'Sex', 'Fare']\n"
     ]
    }
   ],
   "source": [
    "#Select Top-k Features\n",
    "selector_top3 = SelectKBest(score_func=f_classif, k=3)\n",
    "X_new = selector_top3.fit_transform(X_scaled, y)\n",
    "\n",
    "selected_features = [features[i] for i in selector_top3.get_support(indices=True)]\n",
    "print(\"Top 3 selected features:\", selected_features)\n"
   ]
  },
  {
   "cell_type": "code",
   "execution_count": 15,
   "id": "d938a40c",
   "metadata": {
    "execution": {
     "iopub.execute_input": "2025-08-08T05:35:46.501172Z",
     "iopub.status.busy": "2025-08-08T05:35:46.500864Z",
     "iopub.status.idle": "2025-08-08T05:35:46.770672Z",
     "shell.execute_reply": "2025-08-08T05:35:46.769668Z"
    },
    "papermill": {
     "duration": 0.276827,
     "end_time": "2025-08-08T05:35:46.772662",
     "exception": false,
     "start_time": "2025-08-08T05:35:46.495835",
     "status": "completed"
    },
    "tags": []
   },
   "outputs": [
    {
     "name": "stdout",
     "output_type": "stream",
     "text": [
      "           ROC-AUC\n",
      "Sex       0.766818\n",
      "Fare      0.689833\n",
      "Pclass    0.682421\n",
      "Embarked  0.574381\n",
      "Parch     0.561409\n",
      "Age       0.520457\n",
      "SibSp     0.456460\n"
     ]
    }
   ],
   "source": [
    "from sklearn.linear_model import LogisticRegression\n",
    "from sklearn.metrics import roc_auc_score\n",
    "from sklearn.model_selection import cross_val_score\n",
    "import numpy as np\n",
    "\n",
    "roc_auc_scores = {}\n",
    "\n",
    "for feature in features:\n",
    "    X_feat = X[[feature]].values  # use single feature\n",
    "    model = LogisticRegression(max_iter=1000)\n",
    "    \n",
    "    # Use cross_val_score with scoring='roc_auc' for stable estimate\n",
    "    scores = cross_val_score(model, X_feat, y, cv=5, scoring='roc_auc')\n",
    "    roc_auc_scores[feature] = scores.mean()\n",
    "\n",
    "# Convert to DataFrame for easy viewing\n",
    "roc_auc_df = pd.DataFrame.from_dict(roc_auc_scores, orient='index', columns=['ROC-AUC'])\n",
    "roc_auc_df = roc_auc_df.sort_values(by='ROC-AUC', ascending=False)\n",
    "\n",
    "print(roc_auc_df)\n"
   ]
  }
 ],
 "metadata": {
  "kaggle": {
   "accelerator": "none",
   "dataSources": [
    {
     "datasetId": 8030471,
     "sourceId": 12706338,
     "sourceType": "datasetVersion"
    },
    {
     "datasetId": 8030472,
     "sourceId": 12706340,
     "sourceType": "datasetVersion"
    }
   ],
   "dockerImageVersionId": 31089,
   "isGpuEnabled": false,
   "isInternetEnabled": false,
   "language": "python",
   "sourceType": "notebook"
  },
  "kernelspec": {
   "display_name": "Python 3",
   "language": "python",
   "name": "python3"
  },
  "language_info": {
   "codemirror_mode": {
    "name": "ipython",
    "version": 3
   },
   "file_extension": ".py",
   "mimetype": "text/x-python",
   "name": "python",
   "nbconvert_exporter": "python",
   "pygments_lexer": "ipython3",
   "version": "3.11.13"
  },
  "papermill": {
   "default_parameters": {},
   "duration": 12.081531,
   "end_time": "2025-08-08T05:35:50.059530",
   "environment_variables": {},
   "exception": null,
   "input_path": "__notebook__.ipynb",
   "output_path": "__notebook__.ipynb",
   "parameters": {},
   "start_time": "2025-08-08T05:35:37.977999",
   "version": "2.6.0"
  }
 },
 "nbformat": 4,
 "nbformat_minor": 5
}
