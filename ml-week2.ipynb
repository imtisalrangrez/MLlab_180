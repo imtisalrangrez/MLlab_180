{
 "cells": [
  {
   "cell_type": "code",
   "execution_count": 1,
   "id": "97c9694b",
   "metadata": {
    "_cell_guid": "b1076dfc-b9ad-4769-8c92-a6c4dae69d19",
    "_uuid": "8f2839f25d086af736a60e9eeb907d3b93b6e0e5",
    "execution": {
     "iopub.execute_input": "2025-08-08T05:20:08.452193Z",
     "iopub.status.busy": "2025-08-08T05:20:08.451905Z",
     "iopub.status.idle": "2025-08-08T05:20:10.302589Z",
     "shell.execute_reply": "2025-08-08T05:20:10.301549Z"
    },
    "papermill": {
     "duration": 1.856713,
     "end_time": "2025-08-08T05:20:10.304172",
     "exception": false,
     "start_time": "2025-08-08T05:20:08.447459",
     "status": "completed"
    },
    "tags": []
   },
   "outputs": [
    {
     "name": "stdout",
     "output_type": "stream",
     "text": [
      "/kaggle/input/titanic-train/titanic_train (1).csv\n",
      "/kaggle/input/house-price/house_price_train (1).csv\n"
     ]
    }
   ],
   "source": [
    "# This Python 3 environment comes with many helpful analytics libraries installed\n",
    "# It is defined by the kaggle/python Docker image: https://github.com/kaggle/docker-python\n",
    "# For example, here's several helpful packages to load\n",
    "\n",
    "import numpy as np # linear algebra\n",
    "import pandas as pd # data processing, CSV file I/O (e.g. pd.read_csv)\n",
    "\n",
    "# Input data files are available in the read-only \"../input/\" directory\n",
    "# For example, running this (by clicking run or pressing Shift+Enter) will list all files under the input directory\n",
    "\n",
    "import os\n",
    "for dirname, _, filenames in os.walk('/kaggle/input'):\n",
    "    for filename in filenames:\n",
    "        print(os.path.join(dirname, filename))\n",
    "\n",
    "# You can write up to 20GB to the current directory (/kaggle/working/) that gets preserved as output when you create a version using \"Save & Run All\" \n",
    "# You can also write temporary files to /kaggle/temp/, but they won't be saved outside of the current session"
   ]
  },
  {
   "cell_type": "code",
   "execution_count": 2,
   "id": "01ebf088",
   "metadata": {
    "execution": {
     "iopub.execute_input": "2025-08-08T05:20:10.311625Z",
     "iopub.status.busy": "2025-08-08T05:20:10.311200Z",
     "iopub.status.idle": "2025-08-08T05:20:10.371114Z",
     "shell.execute_reply": "2025-08-08T05:20:10.369929Z"
    },
    "papermill": {
     "duration": 0.0677,
     "end_time": "2025-08-08T05:20:10.375222",
     "exception": false,
     "start_time": "2025-08-08T05:20:10.307522",
     "status": "completed"
    },
    "tags": []
   },
   "outputs": [
    {
     "data": {
      "text/html": [
       "<div>\n",
       "<style scoped>\n",
       "    .dataframe tbody tr th:only-of-type {\n",
       "        vertical-align: middle;\n",
       "    }\n",
       "\n",
       "    .dataframe tbody tr th {\n",
       "        vertical-align: top;\n",
       "    }\n",
       "\n",
       "    .dataframe thead th {\n",
       "        text-align: right;\n",
       "    }\n",
       "</style>\n",
       "<table border=\"1\" class=\"dataframe\">\n",
       "  <thead>\n",
       "    <tr style=\"text-align: right;\">\n",
       "      <th></th>\n",
       "      <th>PassengerId</th>\n",
       "      <th>Survived</th>\n",
       "      <th>Pclass</th>\n",
       "      <th>Name</th>\n",
       "      <th>Sex</th>\n",
       "      <th>Age</th>\n",
       "      <th>SibSp</th>\n",
       "      <th>Parch</th>\n",
       "      <th>Ticket</th>\n",
       "      <th>Fare</th>\n",
       "      <th>Cabin</th>\n",
       "      <th>Embarked</th>\n",
       "    </tr>\n",
       "  </thead>\n",
       "  <tbody>\n",
       "    <tr>\n",
       "      <th>0</th>\n",
       "      <td>1</td>\n",
       "      <td>0</td>\n",
       "      <td>3</td>\n",
       "      <td>Braund, Mr. Owen Harris</td>\n",
       "      <td>male</td>\n",
       "      <td>22.0</td>\n",
       "      <td>1</td>\n",
       "      <td>0</td>\n",
       "      <td>A/5 21171</td>\n",
       "      <td>7.2500</td>\n",
       "      <td>NaN</td>\n",
       "      <td>S</td>\n",
       "    </tr>\n",
       "    <tr>\n",
       "      <th>1</th>\n",
       "      <td>2</td>\n",
       "      <td>1</td>\n",
       "      <td>1</td>\n",
       "      <td>Cumings, Mrs. John Bradley (Florence Briggs Th...</td>\n",
       "      <td>female</td>\n",
       "      <td>38.0</td>\n",
       "      <td>1</td>\n",
       "      <td>0</td>\n",
       "      <td>PC 17599</td>\n",
       "      <td>71.2833</td>\n",
       "      <td>C85</td>\n",
       "      <td>C</td>\n",
       "    </tr>\n",
       "    <tr>\n",
       "      <th>2</th>\n",
       "      <td>3</td>\n",
       "      <td>1</td>\n",
       "      <td>3</td>\n",
       "      <td>Heikkinen, Miss. Laina</td>\n",
       "      <td>female</td>\n",
       "      <td>26.0</td>\n",
       "      <td>0</td>\n",
       "      <td>0</td>\n",
       "      <td>STON/O2. 3101282</td>\n",
       "      <td>7.9250</td>\n",
       "      <td>NaN</td>\n",
       "      <td>S</td>\n",
       "    </tr>\n",
       "    <tr>\n",
       "      <th>3</th>\n",
       "      <td>4</td>\n",
       "      <td>1</td>\n",
       "      <td>1</td>\n",
       "      <td>Futrelle, Mrs. Jacques Heath (Lily May Peel)</td>\n",
       "      <td>female</td>\n",
       "      <td>35.0</td>\n",
       "      <td>1</td>\n",
       "      <td>0</td>\n",
       "      <td>113803</td>\n",
       "      <td>53.1000</td>\n",
       "      <td>C123</td>\n",
       "      <td>S</td>\n",
       "    </tr>\n",
       "    <tr>\n",
       "      <th>4</th>\n",
       "      <td>5</td>\n",
       "      <td>0</td>\n",
       "      <td>3</td>\n",
       "      <td>Allen, Mr. William Henry</td>\n",
       "      <td>male</td>\n",
       "      <td>35.0</td>\n",
       "      <td>0</td>\n",
       "      <td>0</td>\n",
       "      <td>373450</td>\n",
       "      <td>8.0500</td>\n",
       "      <td>NaN</td>\n",
       "      <td>S</td>\n",
       "    </tr>\n",
       "  </tbody>\n",
       "</table>\n",
       "</div>"
      ],
      "text/plain": [
       "   PassengerId  Survived  Pclass  \\\n",
       "0            1         0       3   \n",
       "1            2         1       1   \n",
       "2            3         1       3   \n",
       "3            4         1       1   \n",
       "4            5         0       3   \n",
       "\n",
       "                                                Name     Sex   Age  SibSp  \\\n",
       "0                            Braund, Mr. Owen Harris    male  22.0      1   \n",
       "1  Cumings, Mrs. John Bradley (Florence Briggs Th...  female  38.0      1   \n",
       "2                             Heikkinen, Miss. Laina  female  26.0      0   \n",
       "3       Futrelle, Mrs. Jacques Heath (Lily May Peel)  female  35.0      1   \n",
       "4                           Allen, Mr. William Henry    male  35.0      0   \n",
       "\n",
       "   Parch            Ticket     Fare Cabin Embarked  \n",
       "0      0         A/5 21171   7.2500   NaN        S  \n",
       "1      0          PC 17599  71.2833   C85        C  \n",
       "2      0  STON/O2. 3101282   7.9250   NaN        S  \n",
       "3      0            113803  53.1000  C123        S  \n",
       "4      0            373450   8.0500   NaN        S  "
      ]
     },
     "execution_count": 2,
     "metadata": {},
     "output_type": "execute_result"
    }
   ],
   "source": [
    "import numpy as np\n",
    "import pandas as pd\n",
    "df= pd.read_csv(\"/kaggle/input/titanic-train/titanic_train (1).csv\")\n",
    "df.head()\n"
   ]
  },
  {
   "cell_type": "code",
   "execution_count": 3,
   "id": "5a196d47",
   "metadata": {
    "execution": {
     "iopub.execute_input": "2025-08-08T05:20:10.390310Z",
     "iopub.status.busy": "2025-08-08T05:20:10.389708Z",
     "iopub.status.idle": "2025-08-08T05:20:10.397103Z",
     "shell.execute_reply": "2025-08-08T05:20:10.396222Z"
    },
    "papermill": {
     "duration": 0.014495,
     "end_time": "2025-08-08T05:20:10.398393",
     "exception": false,
     "start_time": "2025-08-08T05:20:10.383898",
     "status": "completed"
    },
    "tags": []
   },
   "outputs": [
    {
     "name": "stdout",
     "output_type": "stream",
     "text": [
      "Columns with null values: ['Age', 'Cabin', 'Embarked']\n"
     ]
    }
   ],
   "source": [
    "null_columns = df.columns[df.isnull().any()]\n",
    "print(\"Columns with null values:\", list(null_columns))"
   ]
  },
  {
   "cell_type": "code",
   "execution_count": 4,
   "id": "1650164a",
   "metadata": {
    "execution": {
     "iopub.execute_input": "2025-08-08T05:20:10.406061Z",
     "iopub.status.busy": "2025-08-08T05:20:10.405389Z",
     "iopub.status.idle": "2025-08-08T05:20:10.417151Z",
     "shell.execute_reply": "2025-08-08T05:20:10.416322Z"
    },
    "papermill": {
     "duration": 0.017581,
     "end_time": "2025-08-08T05:20:10.419134",
     "exception": false,
     "start_time": "2025-08-08T05:20:10.401553",
     "status": "completed"
    },
    "tags": []
   },
   "outputs": [],
   "source": [
    "df['Age'] = df['Age'].fillna(df['Age'].median())\n",
    "df['Embarked'] = df['Embarked'].fillna(df['Embarked'].mode().iloc[0])\n",
    "df['Cabin'] = df['Cabin'].fillna('Unknown')"
   ]
  },
  {
   "cell_type": "code",
   "execution_count": 5,
   "id": "e79461e6",
   "metadata": {
    "execution": {
     "iopub.execute_input": "2025-08-08T05:20:10.429953Z",
     "iopub.status.busy": "2025-08-08T05:20:10.429616Z",
     "iopub.status.idle": "2025-08-08T05:20:10.443475Z",
     "shell.execute_reply": "2025-08-08T05:20:10.442717Z"
    },
    "papermill": {
     "duration": 0.021101,
     "end_time": "2025-08-08T05:20:10.445175",
     "exception": false,
     "start_time": "2025-08-08T05:20:10.424074",
     "status": "completed"
    },
    "tags": []
   },
   "outputs": [
    {
     "data": {
      "text/html": [
       "<div>\n",
       "<style scoped>\n",
       "    .dataframe tbody tr th:only-of-type {\n",
       "        vertical-align: middle;\n",
       "    }\n",
       "\n",
       "    .dataframe tbody tr th {\n",
       "        vertical-align: top;\n",
       "    }\n",
       "\n",
       "    .dataframe thead th {\n",
       "        text-align: right;\n",
       "    }\n",
       "</style>\n",
       "<table border=\"1\" class=\"dataframe\">\n",
       "  <thead>\n",
       "    <tr style=\"text-align: right;\">\n",
       "      <th></th>\n",
       "      <th>PassengerId</th>\n",
       "      <th>Survived</th>\n",
       "      <th>Pclass</th>\n",
       "      <th>Name</th>\n",
       "      <th>Sex</th>\n",
       "      <th>Age</th>\n",
       "      <th>SibSp</th>\n",
       "      <th>Parch</th>\n",
       "      <th>Ticket</th>\n",
       "      <th>Fare</th>\n",
       "      <th>Cabin</th>\n",
       "      <th>Embarked</th>\n",
       "    </tr>\n",
       "  </thead>\n",
       "  <tbody>\n",
       "    <tr>\n",
       "      <th>0</th>\n",
       "      <td>1</td>\n",
       "      <td>0</td>\n",
       "      <td>3</td>\n",
       "      <td>Braund, Mr. Owen Harris</td>\n",
       "      <td>male</td>\n",
       "      <td>22.0</td>\n",
       "      <td>1</td>\n",
       "      <td>0</td>\n",
       "      <td>A/5 21171</td>\n",
       "      <td>7.2500</td>\n",
       "      <td>Unknown</td>\n",
       "      <td>S</td>\n",
       "    </tr>\n",
       "    <tr>\n",
       "      <th>1</th>\n",
       "      <td>2</td>\n",
       "      <td>1</td>\n",
       "      <td>1</td>\n",
       "      <td>Cumings, Mrs. John Bradley (Florence Briggs Th...</td>\n",
       "      <td>female</td>\n",
       "      <td>38.0</td>\n",
       "      <td>1</td>\n",
       "      <td>0</td>\n",
       "      <td>PC 17599</td>\n",
       "      <td>71.2833</td>\n",
       "      <td>C85</td>\n",
       "      <td>C</td>\n",
       "    </tr>\n",
       "    <tr>\n",
       "      <th>2</th>\n",
       "      <td>3</td>\n",
       "      <td>1</td>\n",
       "      <td>3</td>\n",
       "      <td>Heikkinen, Miss. Laina</td>\n",
       "      <td>female</td>\n",
       "      <td>26.0</td>\n",
       "      <td>0</td>\n",
       "      <td>0</td>\n",
       "      <td>STON/O2. 3101282</td>\n",
       "      <td>7.9250</td>\n",
       "      <td>Unknown</td>\n",
       "      <td>S</td>\n",
       "    </tr>\n",
       "    <tr>\n",
       "      <th>3</th>\n",
       "      <td>4</td>\n",
       "      <td>1</td>\n",
       "      <td>1</td>\n",
       "      <td>Futrelle, Mrs. Jacques Heath (Lily May Peel)</td>\n",
       "      <td>female</td>\n",
       "      <td>35.0</td>\n",
       "      <td>1</td>\n",
       "      <td>0</td>\n",
       "      <td>113803</td>\n",
       "      <td>53.1000</td>\n",
       "      <td>C123</td>\n",
       "      <td>S</td>\n",
       "    </tr>\n",
       "    <tr>\n",
       "      <th>4</th>\n",
       "      <td>5</td>\n",
       "      <td>0</td>\n",
       "      <td>3</td>\n",
       "      <td>Allen, Mr. William Henry</td>\n",
       "      <td>male</td>\n",
       "      <td>35.0</td>\n",
       "      <td>0</td>\n",
       "      <td>0</td>\n",
       "      <td>373450</td>\n",
       "      <td>8.0500</td>\n",
       "      <td>Unknown</td>\n",
       "      <td>S</td>\n",
       "    </tr>\n",
       "  </tbody>\n",
       "</table>\n",
       "</div>"
      ],
      "text/plain": [
       "   PassengerId  Survived  Pclass  \\\n",
       "0            1         0       3   \n",
       "1            2         1       1   \n",
       "2            3         1       3   \n",
       "3            4         1       1   \n",
       "4            5         0       3   \n",
       "\n",
       "                                                Name     Sex   Age  SibSp  \\\n",
       "0                            Braund, Mr. Owen Harris    male  22.0      1   \n",
       "1  Cumings, Mrs. John Bradley (Florence Briggs Th...  female  38.0      1   \n",
       "2                             Heikkinen, Miss. Laina  female  26.0      0   \n",
       "3       Futrelle, Mrs. Jacques Heath (Lily May Peel)  female  35.0      1   \n",
       "4                           Allen, Mr. William Henry    male  35.0      0   \n",
       "\n",
       "   Parch            Ticket     Fare    Cabin Embarked  \n",
       "0      0         A/5 21171   7.2500  Unknown        S  \n",
       "1      0          PC 17599  71.2833      C85        C  \n",
       "2      0  STON/O2. 3101282   7.9250  Unknown        S  \n",
       "3      0            113803  53.1000     C123        S  \n",
       "4      0            373450   8.0500  Unknown        S  "
      ]
     },
     "execution_count": 5,
     "metadata": {},
     "output_type": "execute_result"
    }
   ],
   "source": [
    "df.head()"
   ]
  },
  {
   "cell_type": "code",
   "execution_count": 6,
   "id": "dfe1eeb6",
   "metadata": {
    "execution": {
     "iopub.execute_input": "2025-08-08T05:20:10.457589Z",
     "iopub.status.busy": "2025-08-08T05:20:10.457284Z",
     "iopub.status.idle": "2025-08-08T05:20:10.462712Z",
     "shell.execute_reply": "2025-08-08T05:20:10.461892Z"
    },
    "papermill": {
     "duration": 0.013287,
     "end_time": "2025-08-08T05:20:10.464152",
     "exception": false,
     "start_time": "2025-08-08T05:20:10.450865",
     "status": "completed"
    },
    "tags": []
   },
   "outputs": [
    {
     "name": "stdout",
     "output_type": "stream",
     "text": [
      "Percentage of 'Unknown' in Cabin: 77.10%\n"
     ]
    }
   ],
   "source": [
    "unknown_ratio = (df['Cabin'] == 'Unknown').mean()\n",
    "\n",
    "print(f\"Percentage of 'Unknown' in Cabin: {unknown_ratio:.2%}\")"
   ]
  },
  {
   "cell_type": "code",
   "execution_count": 7,
   "id": "630b4b67",
   "metadata": {
    "execution": {
     "iopub.execute_input": "2025-08-08T05:20:10.471513Z",
     "iopub.status.busy": "2025-08-08T05:20:10.471244Z",
     "iopub.status.idle": "2025-08-08T05:20:10.483754Z",
     "shell.execute_reply": "2025-08-08T05:20:10.482833Z"
    },
    "papermill": {
     "duration": 0.017708,
     "end_time": "2025-08-08T05:20:10.485042",
     "exception": false,
     "start_time": "2025-08-08T05:20:10.467334",
     "status": "completed"
    },
    "tags": []
   },
   "outputs": [
    {
     "data": {
      "text/html": [
       "<div>\n",
       "<style scoped>\n",
       "    .dataframe tbody tr th:only-of-type {\n",
       "        vertical-align: middle;\n",
       "    }\n",
       "\n",
       "    .dataframe tbody tr th {\n",
       "        vertical-align: top;\n",
       "    }\n",
       "\n",
       "    .dataframe thead th {\n",
       "        text-align: right;\n",
       "    }\n",
       "</style>\n",
       "<table border=\"1\" class=\"dataframe\">\n",
       "  <thead>\n",
       "    <tr style=\"text-align: right;\">\n",
       "      <th></th>\n",
       "      <th>PassengerId</th>\n",
       "      <th>Survived</th>\n",
       "      <th>Pclass</th>\n",
       "      <th>Name</th>\n",
       "      <th>Sex</th>\n",
       "      <th>Age</th>\n",
       "      <th>SibSp</th>\n",
       "      <th>Parch</th>\n",
       "      <th>Ticket</th>\n",
       "      <th>Fare</th>\n",
       "      <th>Cabin</th>\n",
       "      <th>Embarked</th>\n",
       "    </tr>\n",
       "  </thead>\n",
       "  <tbody>\n",
       "    <tr>\n",
       "      <th>0</th>\n",
       "      <td>1</td>\n",
       "      <td>0</td>\n",
       "      <td>3</td>\n",
       "      <td>Braund, Mr. Owen Harris</td>\n",
       "      <td>male</td>\n",
       "      <td>22.0</td>\n",
       "      <td>1</td>\n",
       "      <td>0</td>\n",
       "      <td>A/5 21171</td>\n",
       "      <td>7.2500</td>\n",
       "      <td>Unknown</td>\n",
       "      <td>S</td>\n",
       "    </tr>\n",
       "    <tr>\n",
       "      <th>1</th>\n",
       "      <td>2</td>\n",
       "      <td>1</td>\n",
       "      <td>1</td>\n",
       "      <td>Cumings, Mrs. John Bradley (Florence Briggs Th...</td>\n",
       "      <td>female</td>\n",
       "      <td>38.0</td>\n",
       "      <td>1</td>\n",
       "      <td>0</td>\n",
       "      <td>PC 17599</td>\n",
       "      <td>71.2833</td>\n",
       "      <td>C85</td>\n",
       "      <td>C</td>\n",
       "    </tr>\n",
       "    <tr>\n",
       "      <th>2</th>\n",
       "      <td>3</td>\n",
       "      <td>1</td>\n",
       "      <td>3</td>\n",
       "      <td>Heikkinen, Miss. Laina</td>\n",
       "      <td>female</td>\n",
       "      <td>26.0</td>\n",
       "      <td>0</td>\n",
       "      <td>0</td>\n",
       "      <td>STON/O2. 3101282</td>\n",
       "      <td>7.9250</td>\n",
       "      <td>Unknown</td>\n",
       "      <td>S</td>\n",
       "    </tr>\n",
       "    <tr>\n",
       "      <th>3</th>\n",
       "      <td>4</td>\n",
       "      <td>1</td>\n",
       "      <td>1</td>\n",
       "      <td>Futrelle, Mrs. Jacques Heath (Lily May Peel)</td>\n",
       "      <td>female</td>\n",
       "      <td>35.0</td>\n",
       "      <td>1</td>\n",
       "      <td>0</td>\n",
       "      <td>113803</td>\n",
       "      <td>53.1000</td>\n",
       "      <td>C123</td>\n",
       "      <td>S</td>\n",
       "    </tr>\n",
       "    <tr>\n",
       "      <th>4</th>\n",
       "      <td>5</td>\n",
       "      <td>0</td>\n",
       "      <td>3</td>\n",
       "      <td>Allen, Mr. William Henry</td>\n",
       "      <td>male</td>\n",
       "      <td>35.0</td>\n",
       "      <td>0</td>\n",
       "      <td>0</td>\n",
       "      <td>373450</td>\n",
       "      <td>8.0500</td>\n",
       "      <td>Unknown</td>\n",
       "      <td>S</td>\n",
       "    </tr>\n",
       "  </tbody>\n",
       "</table>\n",
       "</div>"
      ],
      "text/plain": [
       "   PassengerId  Survived  Pclass  \\\n",
       "0            1         0       3   \n",
       "1            2         1       1   \n",
       "2            3         1       3   \n",
       "3            4         1       1   \n",
       "4            5         0       3   \n",
       "\n",
       "                                                Name     Sex   Age  SibSp  \\\n",
       "0                            Braund, Mr. Owen Harris    male  22.0      1   \n",
       "1  Cumings, Mrs. John Bradley (Florence Briggs Th...  female  38.0      1   \n",
       "2                             Heikkinen, Miss. Laina  female  26.0      0   \n",
       "3       Futrelle, Mrs. Jacques Heath (Lily May Peel)  female  35.0      1   \n",
       "4                           Allen, Mr. William Henry    male  35.0      0   \n",
       "\n",
       "   Parch            Ticket     Fare    Cabin Embarked  \n",
       "0      0         A/5 21171   7.2500  Unknown        S  \n",
       "1      0          PC 17599  71.2833      C85        C  \n",
       "2      0  STON/O2. 3101282   7.9250  Unknown        S  \n",
       "3      0            113803  53.1000     C123        S  \n",
       "4      0            373450   8.0500  Unknown        S  "
      ]
     },
     "execution_count": 7,
     "metadata": {},
     "output_type": "execute_result"
    }
   ],
   "source": [
    " df.head()"
   ]
  },
  {
   "cell_type": "code",
   "execution_count": 8,
   "id": "dadd5c61",
   "metadata": {
    "execution": {
     "iopub.execute_input": "2025-08-08T05:20:10.493783Z",
     "iopub.status.busy": "2025-08-08T05:20:10.492930Z",
     "iopub.status.idle": "2025-08-08T05:20:12.185789Z",
     "shell.execute_reply": "2025-08-08T05:20:12.184860Z"
    },
    "papermill": {
     "duration": 1.699048,
     "end_time": "2025-08-08T05:20:12.187582",
     "exception": false,
     "start_time": "2025-08-08T05:20:10.488534",
     "status": "completed"
    },
    "tags": []
   },
   "outputs": [],
   "source": [
    "# Convert categorical columns to numeric\n",
    "from sklearn.preprocessing import LabelEncoder, MinMaxScaler\n",
    "label_encoders = {}\n",
    "for col in ['Sex', 'Embarked']:\n",
    "    le = LabelEncoder()\n",
    "    df[col] = le.fit_transform(df[col])\n",
    "    label_encoders[col] = le"
   ]
  },
  {
   "cell_type": "code",
   "execution_count": 9,
   "id": "b28b0afe",
   "metadata": {
    "execution": {
     "iopub.execute_input": "2025-08-08T05:20:12.196527Z",
     "iopub.status.busy": "2025-08-08T05:20:12.195566Z",
     "iopub.status.idle": "2025-08-08T05:20:12.209070Z",
     "shell.execute_reply": "2025-08-08T05:20:12.208160Z"
    },
    "papermill": {
     "duration": 0.019143,
     "end_time": "2025-08-08T05:20:12.210439",
     "exception": false,
     "start_time": "2025-08-08T05:20:12.191296",
     "status": "completed"
    },
    "tags": []
   },
   "outputs": [],
   "source": [
    "# Select features and target\n",
    "features = ['Pclass', 'Sex', 'Age', 'SibSp', 'Parch', 'Fare', 'Embarked']\n",
    "X = df[features]\n",
    "y = df['Survived']"
   ]
  },
  {
   "cell_type": "code",
   "execution_count": 10,
   "id": "b593c165",
   "metadata": {
    "execution": {
     "iopub.execute_input": "2025-08-08T05:20:12.218449Z",
     "iopub.status.busy": "2025-08-08T05:20:12.218149Z",
     "iopub.status.idle": "2025-08-08T05:20:12.226029Z",
     "shell.execute_reply": "2025-08-08T05:20:12.225242Z"
    },
    "papermill": {
     "duration": 0.013531,
     "end_time": "2025-08-08T05:20:12.227475",
     "exception": false,
     "start_time": "2025-08-08T05:20:12.213944",
     "status": "completed"
    },
    "tags": []
   },
   "outputs": [],
   "source": [
    "# Scale features to [0,1] for chi-square\n",
    "scaler = MinMaxScaler()\n",
    "X_scaled = scaler.fit_transform(X)"
   ]
  },
  {
   "cell_type": "code",
   "execution_count": 11,
   "id": "ded3221a",
   "metadata": {
    "execution": {
     "iopub.execute_input": "2025-08-08T05:20:12.235585Z",
     "iopub.status.busy": "2025-08-08T05:20:12.235250Z",
     "iopub.status.idle": "2025-08-08T05:20:12.653320Z",
     "shell.execute_reply": "2025-08-08T05:20:12.652296Z"
    },
    "papermill": {
     "duration": 0.423886,
     "end_time": "2025-08-08T05:20:12.654844",
     "exception": false,
     "start_time": "2025-08-08T05:20:12.230958",
     "status": "completed"
    },
    "tags": []
   },
   "outputs": [
    {
     "name": "stdout",
     "output_type": "stream",
     "text": [
      "Chi-Square Feature Scores:\n",
      "     Feature  Chi2 Score\n",
      "0    Pclass   27.232933\n",
      "1       Sex   92.702447\n",
      "2       Age    0.275991\n",
      "3     SibSp    0.322733\n",
      "4     Parch    1.682917\n",
      "5      Fare    8.819172\n",
      "6  Embarked    5.101262\n"
     ]
    }
   ],
   "source": [
    "from sklearn.feature_selection import SelectKBest, chi2\n",
    "import pandas as pd\n",
    "\n",
    "chi_selector = SelectKBest(score_func=chi2, k='all')\n",
    "chi_selector.fit(X_scaled, y)\n",
    "\n",
    "chi_scores = chi_selector.scores_\n",
    "\n",
    "chi_results = pd.DataFrame({\n",
    "    'Feature': features,\n",
    "    'Chi2 Score': chi_scores\n",
    "})\n",
    "\n",
    "print(\"Chi-Square Feature Scores:\\n\", chi_results)\n"
   ]
  },
  {
   "cell_type": "code",
   "execution_count": 12,
   "id": "e100e3ae",
   "metadata": {
    "execution": {
     "iopub.execute_input": "2025-08-08T05:20:12.662735Z",
     "iopub.status.busy": "2025-08-08T05:20:12.662428Z",
     "iopub.status.idle": "2025-08-08T05:20:12.673416Z",
     "shell.execute_reply": "2025-08-08T05:20:12.672563Z"
    },
    "papermill": {
     "duration": 0.016689,
     "end_time": "2025-08-08T05:20:12.675011",
     "exception": false,
     "start_time": "2025-08-08T05:20:12.658322",
     "status": "completed"
    },
    "tags": []
   },
   "outputs": [
    {
     "name": "stdout",
     "output_type": "stream",
     "text": [
      "\n",
      "Fisher Score Feature Scores:\n",
      "     Feature  Fisher Score\n",
      "0    Pclass      0.129394\n",
      "1       Sex      0.418904\n",
      "2       Age      0.004231\n",
      "3     SibSp      0.001249\n",
      "4     Parch      0.006708\n",
      "5      Fare      0.070901\n",
      "6  Embarked      0.028928\n"
     ]
    }
   ],
   "source": [
    "import numpy as np\n",
    "\n",
    "def fisher_score(X, y):\n",
    "    classes = np.unique(y)\n",
    "    scores = []\n",
    "    for i in range(X.shape[1]):\n",
    "        numerator = 0\n",
    "        denominator = 0\n",
    "        overall_mean = np.mean(X[:, i])\n",
    "        for cls in classes:\n",
    "            X_c = X[y == cls, i]\n",
    "            mean_c = np.mean(X_c)\n",
    "            var_c = np.var(X_c)\n",
    "            n_c = len(X_c)\n",
    "            numerator += n_c * (mean_c - overall_mean) ** 2\n",
    "            denominator += n_c * var_c\n",
    "        score = numerator / denominator if denominator != 0 else 0\n",
    "        scores.append(score)\n",
    "    return np.array(scores)\n",
    "\n",
    "fisher_scores = fisher_score(X_scaled, y.values)\n",
    "\n",
    "fisher_results = pd.DataFrame({\n",
    "    'Feature': features,\n",
    "    'Fisher Score': fisher_scores\n",
    "})\n",
    "\n",
    "print(\"\\nFisher Score Feature Scores:\\n\", fisher_results)\n"
   ]
  }
 ],
 "metadata": {
  "kaggle": {
   "accelerator": "none",
   "dataSources": [
    {
     "datasetId": 8030471,
     "sourceId": 12706338,
     "sourceType": "datasetVersion"
    },
    {
     "datasetId": 8030472,
     "sourceId": 12706340,
     "sourceType": "datasetVersion"
    }
   ],
   "dockerImageVersionId": 31089,
   "isGpuEnabled": false,
   "isInternetEnabled": false,
   "language": "python",
   "sourceType": "notebook"
  },
  "kernelspec": {
   "display_name": "Python 3",
   "language": "python",
   "name": "python3"
  },
  "language_info": {
   "codemirror_mode": {
    "name": "ipython",
    "version": 3
   },
   "file_extension": ".py",
   "mimetype": "text/x-python",
   "name": "python",
   "nbconvert_exporter": "python",
   "pygments_lexer": "ipython3",
   "version": "3.11.13"
  },
  "papermill": {
   "default_parameters": {},
   "duration": 9.692387,
   "end_time": "2025-08-08T05:20:13.297977",
   "environment_variables": {},
   "exception": null,
   "input_path": "__notebook__.ipynb",
   "output_path": "__notebook__.ipynb",
   "parameters": {},
   "start_time": "2025-08-08T05:20:03.605590",
   "version": "2.6.0"
  }
 },
 "nbformat": 4,
 "nbformat_minor": 5
}
